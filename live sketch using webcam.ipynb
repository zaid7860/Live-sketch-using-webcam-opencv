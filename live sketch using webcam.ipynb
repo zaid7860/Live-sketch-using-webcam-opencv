{
 "cells": [
  {
   "cell_type": "code",
   "execution_count": 13,
   "metadata": {},
   "outputs": [],
   "source": [
    "import cv2 as cv\n",
    "import numpy as np"
   ]
  },
  {
   "cell_type": "code",
   "execution_count": 34,
   "metadata": {},
   "outputs": [],
   "source": [
    "def sketch(image):\n",
    "    img_gray = cv.cvtColor(image, cv.COLOR_BGR2GRAY)\n",
    "    img_gray_blurr = cv.GaussianBlur(img_gray,(5,5),0)\n",
    "    canny_edges = cv.Canny(img_gray_blurr, 50, 120)\n",
    "    #ret, mask = cv.threshold(canny_edges, 0, 255, cv.)\n",
    "    #ret,mask = cv.threshold(canny_edges,0,255,cv.THRESH_BINARY+cv.THRESH_OTSU)\n",
    "    #ret,mask = cv.threshold(canny_edges,127,255,cv.THRESH_TRUNC)\n",
    "    ret,mask = cv.threshold(canny_edges,127,255,cv.THRESH_BINARY_INV)\n",
    "\n",
    "    return mask\n",
    "\n",
    "cap = cv.VideoCapture(0)\n",
    "\n",
    "while True:\n",
    "    ret, frame = cap.read()\n",
    "    cv.imshow('Our Live Sketcher', sketch(frame))\n",
    "    if cv.waitKey(1) == 13: #13 is the Enter Key\n",
    "        break\n",
    "        \n",
    "# Release camera and close windows\n",
    "cap.release()\n",
    "cv.destroyAllWindows()"
   ]
  },
  {
   "cell_type": "code",
   "execution_count": null,
   "metadata": {},
   "outputs": [],
   "source": []
  }
 ],
 "metadata": {
  "kernelspec": {
   "display_name": "Python 3",
   "language": "python",
   "name": "python3"
  },
  "language_info": {
   "codemirror_mode": {
    "name": "ipython",
    "version": 3
   },
   "file_extension": ".py",
   "mimetype": "text/x-python",
   "name": "python",
   "nbconvert_exporter": "python",
   "pygments_lexer": "ipython3",
   "version": "3.7.3"
  }
 },
 "nbformat": 4,
 "nbformat_minor": 2
}
